{
 "cells": [
  {
   "cell_type": "code",
   "execution_count": 1,
   "id": "general-median",
   "metadata": {},
   "outputs": [],
   "source": [
    "def load_data(filename,sep):\n",
    "  data = pd.read_csv(filename,sep=sep)\n",
    "  return data"
   ]
  },
  {
   "cell_type": "code",
   "execution_count": null,
   "id": "yellow-interpretation",
   "metadata": {},
   "outputs": [],
   "source": [
    "path = \"../data/j120.sm.rs/j1201_1.sm.scv\"\n",
    "data = load_data(path,sep=\" \")\n",
    "keys = data.keys\n"
   ]
  }
 ],
 "metadata": {
  "kernelspec": {
   "display_name": "Python 3",
   "language": "python",
   "name": "python3"
  },
  "language_info": {
   "codemirror_mode": {
    "name": "ipython",
    "version": 3
   },
   "file_extension": ".py",
   "mimetype": "text/x-python",
   "name": "python",
   "nbconvert_exporter": "python",
   "pygments_lexer": "ipython3",
   "version": "3.9.1"
  }
 },
 "nbformat": 4,
 "nbformat_minor": 5
}
